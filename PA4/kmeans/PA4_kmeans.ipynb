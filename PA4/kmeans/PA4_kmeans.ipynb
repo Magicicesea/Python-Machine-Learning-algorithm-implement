{
 "cells": [
  {
   "cell_type": "markdown",
   "metadata": {},
   "source": [
    "# General instructions\n",
    "\n",
    "\n",
    "## High Level Description\n",
    "\n",
    "In this assignment you are asked to implement K-means clustering to identify main clusters in\n",
    "the data, use the discovered centroid of cluster for classification. Specifically, you will\n",
    "\n",
    " - Implement K-means clustering algorithm to identify clusters in a two-dimensional toy-dataset.\n",
    " - Implement image compression using K-means clustering algorithm.\n",
    " - Implement classification using the centroids identified by clustering on digits dataset.\n",
    " - Implement K-means++ clustering algorithm to identify clusters in a two-dimensional toy-dataset i.e. implement the kmeans++ function to compute the centers.\n",
    " \n",
    "NOTE: You only need to make changes in Kmeans.py and use KmeansTest.py for testing purposes and to see your results. You can find all TODO's sequentially in the Kmeans.py file. <br>\n",
    "Depending on your environment you may need to install the python library named, ”pillow”, which is used by matplotlib to process some of the images needed for this assignment. <br>\n",
    "You can install it by running ’pip3 install pillow’ in your command line."
   ]
  },
  {
   "cell_type": "code",
   "execution_count": null,
   "metadata": {},
   "outputs": [],
   "source": [
    "!pip3 install pillow"
   ]
  },
  {
   "cell_type": "markdown",
   "metadata": {},
   "source": [
    "### Grading Guidelines (50 points):\n",
    "\n",
    "You are only required to submit Kmeans.py as that is the only file where you will be making any changes.\n",
    " - get_k_means_plus_plus_center_indices - 5 points (5 *1)\n",
    " - transform_image - 10 points (5 * 2 test cases) We are checking the MSE and the number of iterations for this\n",
    " - Kmeans( ) class on Toy dataset - 15 points (3 * 5 test cases) We are checking the centroid and membership for Kmeans and Kmeans++ \n",
    " - KmeansClassifier( ) class - 20 points (5 * 4 test cases) We are checking the accuracy and the centroids of the assignments.\n"
   ]
  },
  {
   "cell_type": "markdown",
   "metadata": {},
   "source": [
    "### Office Hours\n",
    "\n",
    "Ashir Alam (ashirala@usc.edu) <br> \n",
    "April 5th  12:00pm- 1:00pm Leavey 301F <br> \n",
    "April 9th 10am - 12pm Leavey 301F <br>\n",
    "April 16th 10am - 12pm Leavey 301F <br>\n"
   ]
  },
  {
   "cell_type": "markdown",
   "metadata": {},
   "source": [
    "### Dataset for K-Means Clustering\n",
    "\n",
    "We will use 2 datasets - 2-D Toy Dataset and Digits datasets for K means part.<br>\n",
    "Toy Dataset is a two-dimensional dataset generated from 4 Gaussian distributions. We will use this\n",
    "dataset to visualize the results of our algorithm in two dimensions. You can find it in data_loader.py<br>\n",
    "We will use digits dataset from sklearn to test K-means based classifier and generate digits using\n",
    "Gaussian Mixture model. Each data point is a 8 × 8 image of a digit. This is similar to MNIST but less\n",
    "complex. There are 10 classes in digits dataset. <br>\n",
    "Link for Digits dataset: sklearn.datasets.digits http://scikit-learn.org/stable/modules/generated/sklearn.datasets.load_digits.html#sklearn.datasets.load_digits"
   ]
  },
  {
   "cell_type": "markdown",
   "metadata": {},
   "source": [
    "## 1. K Means Clustering\n",
    "\n",
    " \n",
    "\n",
    "Recall that for a dataset $ x_1, . . . , x_N ∈ R^D $, the K-means distortion objective is: \n",
    "$$ F(\\{\\mu_k\\}, \\{r_{nk}\\}) = \\sum_{i=1}^N \\sum_{k=1}^K r_{nk} \\|\\mu_k- x_n\\|_2^2     \\qquad  (1)   $$   \n",
    "\n",
    "where $ µ_1, . . . , µ_K $ are centroids of the K clusters and $ r_{ik} ∈ {0, 1} $ represents whether example i belongs to cluster k. <br>\n",
    "Clearly, fixing the centroids and minimizing J over the assignment give\n",
    "\n",
    "$$ \\begin{equation}\n",
    "    \\hat r_{ik} = \\begin{cases}\n",
    "        1 & k = argmin_{k'} \\|\\mu_{k'}-x_n\\|_2^2 \\\\\n",
    "        0 & \\text{Otherwise.}\n",
    "    \\end{cases}\n",
    "    \\label{eq:opt_membership}\n",
    "\\end{equation} \\qquad  (2)$$\n",
    "\n",
    "On the other hand, fixing the assignment and minimizing $J$ over the centroids give\n",
    "$$ \\begin{equation}\n",
    "    \\hat \\mu_k =\\frac{ \\sum_{i=1}^N r_{nk} x_n}{\\sum_{i=1}^N r_{nk}}\n",
    "    \\label{eq:opt_mean}\n",
    "\\end{equation} \\qquad  (3) $$ \n",
    "\n",
    "What the K-means algorithm does is simply to alternate between these two steps.\n",
    "\n",
    "<img src = 'Algo1.png'>\n",
    "\n",
    "\n",
    "### 1.1 Implementing k-means++ algorithm\n",
    "\n",
    "\n",
    "Recall from lecture Kmeans++. Please refer to the algorithm below. In simple terms, cluster centers are initially chosen at random from the set of input observation vectors, where the probability of choosing vector x is high if x is not near any previously chosen centers. <br>\n",
    "\n",
    "Here is a one-dimensional example. Our observations are $ [0, 1, 2, 3, 4] $. Let the first center, $ c1 $, be 0. The probability that the next cluster center, $ c2 $, is x is proportional to $ ||c1-x||^2 $. So, $ P(c2 = 1) = 1a, P(c2 = 2) = 4a, P(c2 = 3) = 9a, P(c2 = 4) = 16a $, where $ a = 1/(1+4+9+16) $.<br>\n",
    "Suppose $ c2 = 4 $. Then, $ P(c3 = 1) = 1a, P(c3 = 2) = 4a, P(c3 = 3) = 1a $, where $ a = 1/(1+4+1) $. <br>\n",
    "For more insights, follow this: http://ilpubs.stanford.edu:8090/778/1/2006-13.pdf <br>\n",
    "<img src = 'kmeans++.png' >\n",
    "\n",
    "Implement Algorithm by filling out the TODO parts in function **get_k_means_plus_plus_center_indices** of file **kmeans.py**. You can test this function on Vocareum separately. \n",
    "\n",
    "\n",
    "```\n",
    "\n",
    "def get_k_means_plus_plus_center_indices(n, n_cluster, x, generator=np.random):\n",
    "    :param n: number of samples in the data\n",
    "    :param n_cluster: the number of cluster centers required\n",
    "    :param x: data - numpy array of points\n",
    "    :param generator: random number generator from 0 to n for choosing the first cluster at random\n",
    "            The default is np.random here but in grading, to calculate deterministic results,\n",
    "            We will be using our own random number generator.\n",
    "\n",
    "\n",
    "    :return: the center points array of length n_clusters with each entry being index to a sample\n",
    "             which is chosen as centroid.\n",
    "           \n",
    "```\n",
    "If the generator is still not clear, its basically a np.random but helps us control the result during testing. SO wherever you would use np.random, use generator instead. <br> \n",
    "\n",
    "\n",
    "### 1.2 Implementing K-means clustering algorithm\n",
    "\n",
    "\n",
    "Implement Algorithm 1 by filling out the TODO parts (**fit** function) in class **KMeans** of file **kmeans.py**. Note the following:\n",
    "\n",
    " - Initialize means by picking self.n_cluster from N data points\n",
    " - Update means and membership until convergence or until you have made self.max_iter updates.\n",
    " - return (means, membership, number_of_updates)\n",
    " - If at some iteration, there exists a cluster k with no points assigned to it, then do not update the centroid of this cluster for this round.\n",
    " - While assigning a sample to a cluster, if there’s a tie (i.e. the sample is equidistant from two centroids), you should choose the one with smaller index (like what numpy.argmin does).\n",
    " - For each k, we are trying to compare based on the Euclidean distance. <br>\n",
    " \n",
    " \n",
    " ``` <br>\n",
    " Class KMeans:\n",
    "        Attr:\n",
    "            n_cluster - Number of cluster for kmeans clustering (Int)\n",
    "            max_iter - maximum updates for kmeans clustering (Int)\n",
    "            e - error tolerance (Float)\n",
    "            generator - random number generator from 0 to n for choosing the first cluster at random\n",
    "                The default is np.random here but in grading, to calculate deterministic results,\n",
    "                We will be using our own random number generator.\n",
    "            \n",
    "            def __init__(self, n_cluster, max_iter=100, e=0.0001, generator=np.random):\n",
    "                self.n_cluster = n_cluster\n",
    "                self.max_iter = max_iter\n",
    "                self.e = e\n",
    "                self.generator = generator\n",
    "              \n",
    "\n",
    "            def fit(self, x, centroid_func=get_lloyd_k_means):\n",
    "                Finds n_cluster in the data x\n",
    "                params: \n",
    "                x - N X D numpy array\n",
    "                centroid_func - To specify which algorithm we are using to compute the centers(Lloyd(regular) or Kmeans++) The default is Lloyd's Kmeans.\n",
    "                \n",
    "                returns: A tuple (centroids a n_cluster X D numpy array, y a length (N,) numpy array where cell i is the ith sample's assigned cluster, number_of_updates a Int)\n",
    "            Note: Number of iterations is the number of time you update the assignment\n",
    " \n",
    " ```\n",
    " \n",
    "After you complete the implementation, run KmeansTest.py to see the results of this on toy\n",
    "dataset. You should be able to see three images generated in plots folder. In particular, you can see\n",
    "toy dataset predicted labels.png and toy dataset real labels.png and compare the clusters identified by the algorithm against the real clusters. Your implementation should be able to recover the correct clusters sufficiently well. Representative images are shown in fig. 2. Red dots are cluster centroids.\n",
    "Note that color coding of recovered clusters may not match that of correct clusters. This is due to mis-match\n",
    "in ordering of retrieved clusters and correct clusters (which is fine). <br>\n",
    "\n",
    "\n",
    "<img src = 'PA4img.png' >\n",
    "\n",
    "\n",
    "\n",
    "### 1.3 Classification with k-means\n",
    "\n",
    "Another application of clustering is to obtain a faster version of the nearest neighbor algorithm. Recall that nearest neighbor evaluates the distance of a test sample from every training point to predict its class, which can be very slow. Instead, we can compress the entire training dataset to just the K centroids, where each centroid is now labeled as the majority class of the corresponding cluster. After this compression the prediction time of nearest neighbor is reduced from O(N) to just O(K) (see Algorithm 2 for the pseudocode). <br>\n",
    "<img src =  'Algo2.png' > \n",
    "<br>\n",
    "Complete the **fit** and **predict** function in **KMeansClassifier** in file **kmeans.py** . Once completed,\n",
    "run **KmeansTest.py** to evaluate the classifier on a test set (digits). For comparison, the script will also print accuracy of a logistic classifier and a nearest neighbor classifier. (Note: a naive K-means classifier may not do well but it can be an effective unsupervised method in a classification pipeline .) <br>\n",
    "\n",
    "Note: 1) break ties in the same way as in previous problems; 2) if some centroid doesn’t contain any\n",
    "point, set the label of this centroid as 0. <br>\n",
    "\n",
    "The prediction accuracy baseline is 0.77 for KMeans Lloyd(regular) algorithm and 0.72 for KMeans++ algorithm. Note: these differ on different datasets and in more cases Kmeans++ works better. \n",
    "\n",
    "```\n",
    "\n",
    "\n",
    "    Class KMeansClassifier:\n",
    "        \n",
    "        Attr:\n",
    "            n_cluster - Number of cluster for kmeans clustering (Int)\n",
    "            max_iter - maximum updates for kmeans clustering (Int)\n",
    "            e - error tolerance (Float)\n",
    "            generator - random number generator from 0 to n for choosing the first cluster at random\n",
    "            The default is np.random here but in grading, to calculate deterministic results,\n",
    "            We will be using our own random number generator.\n",
    "    \n",
    "\n",
    "        def __init__(self, n_cluster, max_iter=100, e=1e-6, generator=np.random):\n",
    "            self.n_cluster = n_cluster\n",
    "            self.max_iter = max_iter\n",
    "            self.e = e\n",
    "            self.generator = generator\n",
    "\n",
    "\n",
    "        def fit(self, x, y, centroid_func=get_lloyd_k_means):\n",
    "        \n",
    "            Train the classifier\n",
    "            params:\n",
    "                x - N X D size  numpy array\n",
    "                y - (N,) size numpy array of labels\n",
    "                centroid_func - To specify which algorithm we are using to compute the centers(Lloyd(regular) or Kmeans++) The default is Lloyd's Kmeans.\n",
    "            returns:\n",
    "                None\n",
    "            Stores following attributes:\n",
    "                self.centroids : centroids obtained by kmeans clustering (n_cluster X D numpy array)\n",
    "                self.centroid_labels : labels of each centroid obtained by \n",
    "                    majority voting (N,) numpy array) \n",
    "                    \n",
    "    \n",
    "         def predict(self, x):\n",
    "        \n",
    "            Predict function\n",
    "            params:\n",
    "                x - N X D size  numpy array\n",
    "            returns:\n",
    "                predicted labels - numpy array of size (N,)\n",
    "        \n",
    "       \n",
    "        \n",
    "```\n",
    "\n",
    "\n",
    "### 1.4 Image compression with K-means \n",
    "In this part, we will look at lossy image compression as an application of clustering. The idea is simply to treat each pixel of an image as a point $x_i$, then perform K-means algorithm to cluster these points, and finally replace each pixel with its centroid. <br> \n",
    "\n",
    "What you need to implement is to compress an image with K centroids given. Specifically, complete the\n",
    "function **transform_image** in the file **kmeans.py**. You have to reduce the image pixels and size by replacing each RGB values with nearest code vectors based on Euclidean distance. <br>\n",
    "After your implementation, and after completing Kmeans class, when you run KmeansTest.py, you should be able to see an image compressed_baboon.png in the plots folder. You can see that this image is distorted as compared to the original baboon.tiff. <br>\n",
    "The ideal result should take about 35-40 iterations and the Mean Square Error should be less than 0.0098. It takes about 1-2 minutes to complete normally.\n",
    "\n",
    "\n",
    "```\n",
    "def transform_image(image, code_vectors):\n",
    "\n",
    "        Quantize image using the code_vectors\n",
    "\n",
    "        Return new image from the image by replacing each RGB value in image with nearest code vectors (nearest in euclidean distance sense)\n",
    "\n",
    "        returns:\n",
    "            numpy array of shape image.shape\n",
    "```\n",
    "\n",
    "\n"
   ]
  },
  {
   "cell_type": "code",
   "execution_count": null,
   "metadata": {},
   "outputs": [],
   "source": [
    "import numpy as np"
   ]
  },
  {
   "cell_type": "code",
   "execution_count": null,
   "metadata": {},
   "outputs": [],
   "source": [
    "a = [40.25739993, -0.90848143]\n",
    "b = [-40.11362305, 3.36270893]"
   ]
  },
  {
   "cell_type": "code",
   "execution_count": null,
   "metadata": {},
   "outputs": [],
   "source": [
    "np.sqrt((a[0]-b[0])**2 + (a[1]-b[1])**2)"
   ]
  },
  {
   "cell_type": "code",
   "execution_count": null,
   "metadata": {},
   "outputs": [],
   "source": [
    "!pwd"
   ]
  },
  {
   "cell_type": "code",
   "execution_count": null,
   "metadata": {},
   "outputs": [],
   "source": [
    "import time"
   ]
  },
  {
   "cell_type": "code",
   "execution_count": 87,
   "metadata": {},
   "outputs": [
    {
     "name": "stdout",
     "output_type": "stream",
     "text": [
      "[+] K-Means on Toy Dataset\n",
      "[+] K-Means Vanilla\n",
      "current obj is:21.005828715842064\n",
      "current obj is:11.775075840226158\n",
      "current obj is:7.798263032257955\n",
      "current obj is:5.196863304021689\n",
      "current obj is:1.7362525284421513\n",
      "current obj is:0.0\n",
      "finish at tieration:5\n",
      "time takes for init phase:4.410743713378906e-05\n",
      "time takes for assign phase:0.07600855827331543\n",
      "time takes for recenter phase:0.018338441848754883\n",
      "time takes for calculting phase:0.0002689361572265625\n",
      "[success] : kmeans clustering done on toy dataset\n",
      "Toy dataset K means clustering converged in 100 steps\n",
      "\n",
      "[+] K-Means Plus Plus\n",
      "[+] returning center for [450, 450] points: [105, 308, 433, 207, 21, 183, 353, 277, 92]\n",
      "current obj is:17.131773111149105\n",
      "current obj is:0.03837134352341161\n",
      "current obj is:0.0\n",
      "finish at tieration:2\n",
      "time takes for init phase:1.0967254638671875e-05\n",
      "time takes for assign phase:0.022047758102416992\n",
      "time takes for recenter phase:0.005051136016845703\n",
      "time takes for calculting phase:8.893013000488281e-05\n",
      "[success] : kmeans clustering done on toy dataset\n",
      "Toy dataset K means clustering converged in 100 steps\n",
      "\n",
      "[+] K-Means Classification\n",
      "[+] K-Means Vanilla\n",
      "current obj is:19.032172655325788\n",
      "current obj is:1.9431216658063568\n",
      "current obj is:0.6370326823068089\n",
      "current obj is:0.28907528333436705\n",
      "current obj is:0.07965732382552201\n",
      "current obj is:0.07649490073191392\n",
      "current obj is:0.0722215469749252\n",
      "current obj is:0.03875062012088978\n",
      "current obj is:0.06301439148451696\n",
      "finish at tieration:8\n",
      "time takes for init phase:0.00018095970153808594\n",
      "time takes for assign phase:0.4124763011932373\n",
      "time takes for recenter phase:0.07694768905639648\n",
      "time takes for calculting phase:0.0004820823669433594\n",
      "[*] Prediction accuracy of K-means classifier with 10 cluster is 0.7222222222222222\n",
      "\n",
      "[+] K-Means Plus Plus\n",
      "[+] returning center for [1347, 1347] points: [1126, 723, 204, 1139, 1112, 1111, 1110, 1109, 928, 941]\n",
      "current obj is:21.640707654161865\n",
      "current obj is:1.3674124715725702\n",
      "current obj is:0.7560187440116068\n",
      "current obj is:0.3333613690466702\n",
      "current obj is:0.20685348761320696\n",
      "current obj is:0.11875970020033064\n",
      "current obj is:0.12751659131413587\n",
      "finish at tieration:6\n",
      "time takes for init phase:0.015789031982421875\n",
      "time takes for assign phase:0.39307188987731934\n",
      "time takes for recenter phase:0.08215069770812988\n",
      "time takes for calculting phase:0.0005495548248291016\n",
      "[*] Prediction accuracy of K-means classifier with 10 cluster is 0.6711111111111111\n",
      "[*] Accuracy of logistic regression classifier is 0.9622222222222222\n",
      "[*] Accuracy of Nearest Neighbour classifier is 0.9933333333333333\n"
     ]
    }
   ],
   "source": [
    "!python kmeansTest.py"
   ]
  },
  {
   "cell_type": "code",
   "execution_count": null,
   "metadata": {},
   "outputs": [],
   "source": [
    "#a = [1,2,3]\n",
    "b = [4,5,6]\n",
    "np.true_divide(b, 4)"
   ]
  },
  {
   "cell_type": "code",
   "execution_count": null,
   "metadata": {},
   "outputs": [],
   "source": [
    "a = []\n",
    "a[1]+=1\n",
    "a[1]"
   ]
  },
  {
   "cell_type": "code",
   "execution_count": null,
   "metadata": {},
   "outputs": [],
   "source": [
    "a = [1,2,10,0]\n",
    "print(3 in a)"
   ]
  },
  {
   "cell_type": "code",
   "execution_count": 36,
   "metadata": {},
   "outputs": [
    {
     "data": {
      "text/plain": [
       "102"
      ]
     },
     "execution_count": 36,
     "metadata": {},
     "output_type": "execute_result"
    }
   ],
   "source": [
    "a = np.array([[1,2,3],[2,3,4]])\n",
    "b = np.array([[4,5,6],[7,8,9]])\n",
    "#a**2 + b**2 - 2*a*b\n",
    "np.sum(a**2 + b**2 - 2*a*b)"
   ]
  },
  {
   "cell_type": "code",
   "execution_count": null,
   "metadata": {},
   "outputs": [],
   "source": [
    "np.argmin(np.sum(a**2 + b**2 - 2* a* b,axis=1))"
   ]
  },
  {
   "cell_type": "code",
   "execution_count": null,
   "metadata": {},
   "outputs": [],
   "source": [
    "a = [1,1,1]\n",
    "np.argmin(a)"
   ]
  },
  {
   "cell_type": "code",
   "execution_count": null,
   "metadata": {},
   "outputs": [],
   "source": [
    "x = {1: 2, 3: 4, 4: 3, 2: 1, 0: 0}\n",
    "sorted_x = sorted(x.items(), key=lambda kv: kv[1])"
   ]
  },
  {
   "cell_type": "code",
   "execution_count": null,
   "metadata": {},
   "outputs": [],
   "source": [
    "sorted_x"
   ]
  },
  {
   "cell_type": "code",
   "execution_count": null,
   "metadata": {},
   "outputs": [],
   "source": [
    "a = {1:2}\n",
    "len(a)"
   ]
  },
  {
   "cell_type": "code",
   "execution_count": null,
   "metadata": {},
   "outputs": [],
   "source": [
    "import time"
   ]
  },
  {
   "cell_type": "code",
   "execution_count": null,
   "metadata": {},
   "outputs": [],
   "source": [
    "start = time.time()\n",
    "a = np.array([ 0,1])\n",
    "b = np.array([[ 3, 4],[5,6]])\n",
    "# c = a\n",
    "print(min(np.sum(a**2 + b**2 - 2*a*b,axis=1)))\n",
    "#cur_distance = -1\n",
    "end = time.time()\n",
    "print(end-start)"
   ]
  },
  {
   "cell_type": "code",
   "execution_count": null,
   "metadata": {},
   "outputs": [],
   "source": [
    "start = time.time()\n",
    "# a = np.array([1,2,3])\n",
    "# #b = np.array([3])\n",
    "# # np.linalg.norm(a - b)\n",
    "# #print(np.true_divide(a,b))\n",
    "# c = np.array(a)\n",
    "cur_distance = float('inf')\n",
    "end = time.time()\n",
    "print(end-start)"
   ]
  },
  {
   "cell_type": "code",
   "execution_count": 12,
   "metadata": {},
   "outputs": [],
   "source": [
    "import numpy as np"
   ]
  },
  {
   "cell_type": "code",
   "execution_count": 18,
   "metadata": {},
   "outputs": [
    {
     "name": "stdout",
     "output_type": "stream",
     "text": [
      "(2, 6, 3)\n",
      "[0.64313725, 0.58823529, 0.27843137]\n",
      "[0.24705882, 0.22352941, 0.12156863]\n",
      "[0.29411765, 0.16862745, 0.03921569]\n",
      "[0.45882353, 0.46666667, 0.26666667]\n",
      "[0.55294118, 0.66666667, 0.39607843]\n",
      "[0.70196078, 0.7372549, 0.4627451]\n",
      "[0.03529412, 0.04313725, 0.04705882]\n",
      "[0.03921569, 0.04705882, 0.04313725]\n",
      "[0.04313725, 0.05882353, 0.04705882]\n",
      "[0.01960784, 0.03137255, 0.01960784]\n",
      "[0.00784314, 0.01960784, 0.0]\n",
      "[0.01568627, 0.01960784, 0.00784314]\n"
     ]
    }
   ],
   "source": [
    "a = [[[0.64313725, 0.58823529, 0.27843137],\n",
    "  [0.24705882, 0.22352941, 0.12156863],\n",
    "  [0.29411765, 0.16862745, 0.03921569],\n",
    "  [0.45882353, 0.46666667, 0.26666667],\n",
    "  [0.55294118, 0.66666667, 0.39607843],\n",
    "  [0.70196078, 0.7372549,  0.4627451 ]],\n",
    "[[0.03529412, 0.04313725, 0.04705882],\n",
    "  [0.03921569, 0.04705882, 0.04313725],\n",
    "  [0.04313725, 0.05882353, 0.04705882],\n",
    "  [0.01960784, 0.03137255, 0.01960784],\n",
    "  [0.00784314, 0.01960784, 0.        ],\n",
    "  [0.01568627, 0.01960784, 0.00784314]]]\n",
    "# print(np.array(a).shape)\n",
    "\n",
    "M,N = np.array(a).shape\n",
    "\n",
    "for i in range(2):\n",
    "    for j in range(6):\n",
    "        print(a[i][j])"
   ]
  },
  {
   "cell_type": "code",
   "execution_count": null,
   "metadata": {},
   "outputs": [],
   "source": [
    "[ 9.25739993 -0.90848143]\n",
    "[[ 1.46803737  8.83069153]\n",
    " [-8.33991861 -2.98825783]\n",
    " [-4.49239055 -8.02316563]\n",
    " [ 6.81286498 -5.80567293]\n",
    " [-4.63815699  7.82263388]\n",
    " [ 6.9738859   5.73474059]\n",
    " [ 9.00454882  0.12461644]\n",
    " [ 1.66467893 -9.12247052]\n",
    " [-8.25184968  3.16991064]]\n",
    "[155.52565903 313.99108957 239.6754694   29.95823571 269.31887645\n",
    "  49.34683509   1.13122489 125.11902879 323.20710352]"
   ]
  },
  {
   "cell_type": "code",
   "execution_count": 78,
   "metadata": {},
   "outputs": [
    {
     "data": {
      "text/plain": [
       "155.5256590359249"
      ]
     },
     "execution_count": 78,
     "metadata": {},
     "output_type": "execute_result"
    }
   ],
   "source": [
    "a = 9.25739993\n",
    "b = 1.46803737\n",
    "\n",
    "c = -0.90848143\n",
    "d = 8.83069153\n",
    "(a-b)**2 + (c-d) **2\n",
    "\n"
   ]
  },
  {
   "cell_type": "code",
   "execution_count": null,
   "metadata": {},
   "outputs": [],
   "source": []
  }
 ],
 "metadata": {
  "kernelspec": {
   "display_name": "Python 3",
   "language": "python",
   "name": "python3"
  },
  "language_info": {
   "codemirror_mode": {
    "name": "ipython",
    "version": 3
   },
   "file_extension": ".py",
   "mimetype": "text/x-python",
   "name": "python",
   "nbconvert_exporter": "python",
   "pygments_lexer": "ipython3",
   "version": "3.6.5"
  }
 },
 "nbformat": 4,
 "nbformat_minor": 2
}
